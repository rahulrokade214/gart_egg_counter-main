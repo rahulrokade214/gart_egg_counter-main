{
 "cells": [
  {
   "cell_type": "code",
   "execution_count": 6,
   "id": "eb08e762",
   "metadata": {},
   "outputs": [],
   "source": [
    "import cv2\n",
    "\n",
    "\n",
    "video_path = '20180910_144521.mp4'\n",
    "cap = cv2.VideoCapture(video_path)\n",
    "\n",
    "resize_factor = 0.5\n",
    "\n",
    "while True:\n",
    "    # Read a frame from the video\n",
    "    ret, frame = cap.read()\n",
    "    \n",
    "    # Break the loop if no frame is read (end of video)\n",
    "    if not ret:\n",
    "        break\n",
    "    \n",
    "    # Convert frame to grayscale\n",
    "    gray = cv2.cvtColor(frame, cv2.COLOR_BGR2GRAY)\n",
    "    \n",
    "    # Apply GaussianBlur to reduce noise and improve contour detection\n",
    "    blurred = cv2.GaussianBlur(gray, (5, 5), 0)\n",
    "    \n",
    "    # Detect edges using Canny edge detector\n",
    "    edges = cv2.Canny(blurred, 50, 150)\n",
    "    \n",
    "    # Find contours\n",
    "    contours, _ = cv2.findContours(edges, cv2.RETR_EXTERNAL, cv2.CHAIN_APPROX_SIMPLE)\n",
    "    \n",
    "    # Draw contours on the original frame\n",
    "    cv2.drawContours(frame, contours, -1, (0, 255, 0), 2)\n",
    "    \n",
    "    # Resize the frame\n",
    "    height, width = frame.shape[:2]\n",
    "    new_dim = (int(width * resize_factor), int(height * resize_factor))\n",
    "    resized_frame = cv2.resize(frame, new_dim, interpolation=cv2.INTER_AREA)\n",
    "    \n",
    "    # Display the result\n",
    "    cv2.imshow('Contours', resized_frame)\n",
    "    \n",
    "    # Exit the video playback when 'q' key is pressed\n",
    "    if cv2.waitKey(1) & 0xFF == ord('q'):\n",
    "        break\n",
    "\n",
    "# Release the video capture and close windows\n",
    "cap.release()\n",
    "cv2.destroyAllWindows()\n"
   ]
  },
  {
   "cell_type": "code",
   "execution_count": null,
   "id": "4f233593",
   "metadata": {},
   "outputs": [],
   "source": []
  },
  {
   "cell_type": "code",
   "execution_count": null,
   "id": "abfaa62f",
   "metadata": {},
   "outputs": [],
   "source": []
  }
 ],
 "metadata": {
  "kernelspec": {
   "display_name": "Python 3 (ipykernel)",
   "language": "python",
   "name": "python3"
  },
  "language_info": {
   "codemirror_mode": {
    "name": "ipython",
    "version": 3
   },
   "file_extension": ".py",
   "mimetype": "text/x-python",
   "name": "python",
   "nbconvert_exporter": "python",
   "pygments_lexer": "ipython3",
   "version": "3.10.9"
  }
 },
 "nbformat": 4,
 "nbformat_minor": 5
}
